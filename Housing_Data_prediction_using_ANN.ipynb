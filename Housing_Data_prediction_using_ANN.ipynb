{
  "nbformat": 4,
  "nbformat_minor": 0,
  "metadata": {
    "colab": {
      "provenance": [],
      "authorship_tag": "ABX9TyN08hDPRTOxbjEU5sXeCt09",
      "include_colab_link": true
    },
    "kernelspec": {
      "name": "python3",
      "display_name": "Python 3"
    },
    "language_info": {
      "name": "python"
    },
    "accelerator": "GPU",
    "gpuClass": "standard"
  },
  "cells": [
    {
      "cell_type": "markdown",
      "metadata": {
        "id": "view-in-github",
        "colab_type": "text"
      },
      "source": [
        "<a href=\"https://colab.research.google.com/github/pradeep-016/Housing_Data_Predicting_Using_ANN/blob/main/Housing_Data_prediction_using_ANN.ipynb\" target=\"_parent\"><img src=\"https://colab.research.google.com/assets/colab-badge.svg\" alt=\"Open In Colab\"/></a>"
      ]
    },
    {
      "cell_type": "code",
      "execution_count": 1,
      "metadata": {
        "id": "t3zC1WO5nafE"
      },
      "outputs": [],
      "source": [
        "import numpy as np\n",
        "import pandas as pd\n",
        "%matplotlib inline\n",
        "import matplotlib as mlp\n",
        "import matplotlib.pyplot as plt"
      ]
    },
    {
      "cell_type": "code",
      "source": [
        "import tensorflow as tf\n",
        "from tensorflow import keras"
      ],
      "metadata": {
        "id": "LSS4YybZpeas"
      },
      "execution_count": 2,
      "outputs": []
    },
    {
      "cell_type": "code",
      "source": [
        "from sklearn.datasets import fetch_california_housing\n",
        "housing=fetch_california_housing()"
      ],
      "metadata": {
        "id": "QEXENLOBpl6H"
      },
      "execution_count": 3,
      "outputs": []
    },
    {
      "cell_type": "code",
      "source": [
        "print(housing.feature_names)"
      ],
      "metadata": {
        "colab": {
          "base_uri": "https://localhost:8080/"
        },
        "id": "U0ucQ9t4p481",
        "outputId": "72c71e3b-b382-4e13-96ea-d352c2548db5"
      },
      "execution_count": 4,
      "outputs": [
        {
          "output_type": "stream",
          "name": "stdout",
          "text": [
            "['MedInc', 'HouseAge', 'AveRooms', 'AveBedrms', 'Population', 'AveOccup', 'Latitude', 'Longitude']\n"
          ]
        }
      ]
    },
    {
      "cell_type": "code",
      "source": [
        "from sklearn.model_selection import train_test_split"
      ],
      "metadata": {
        "id": "FMazKX9JqBXy"
      },
      "execution_count": 5,
      "outputs": []
    },
    {
      "cell_type": "code",
      "source": [
        "X_train_full,X_test,y_train_full,y_test=train_test_split(housing.data,housing.target,random_state=42)\n",
        "X_train,X_valid,y_train,y_valid =train_test_split(X_train_full,y_train_full,random_state=42)"
      ],
      "metadata": {
        "id": "OH4HjfkrrAuI"
      },
      "execution_count": 6,
      "outputs": []
    },
    {
      "cell_type": "code",
      "source": [
        "from sklearn.preprocessing import StandardScaler\n",
        "scaler=StandardScaler()"
      ],
      "metadata": {
        "id": "SuvdhAaKrgKg"
      },
      "execution_count": 7,
      "outputs": []
    },
    {
      "cell_type": "code",
      "source": [
        "X_train=scaler.fit_transform(X_train)\n",
        "X_valid=scaler.transform(X_valid)\n",
        "X_test=scaler.transform(X_test)"
      ],
      "metadata": {
        "id": "pflAH_GCr8Xe"
      },
      "execution_count": 8,
      "outputs": []
    },
    {
      "cell_type": "code",
      "source": [
        "np.random.seed(42)\n",
        "tf.random.set_seed(42)"
      ],
      "metadata": {
        "id": "BaG5tAd2sUkW"
      },
      "execution_count": 9,
      "outputs": []
    },
    {
      "cell_type": "code",
      "source": [
        "X_train.shape"
      ],
      "metadata": {
        "colab": {
          "base_uri": "https://localhost:8080/"
        },
        "id": "O9Gpx2eCsdOY",
        "outputId": "08735e5b-aadc-4a88-a277-b7c7b1420564"
      },
      "execution_count": 10,
      "outputs": [
        {
          "output_type": "execute_result",
          "data": {
            "text/plain": [
              "(11610, 8)"
            ]
          },
          "metadata": {},
          "execution_count": 10
        }
      ]
    },
    {
      "cell_type": "code",
      "source": [
        "model=keras.models.Sequential([\n",
        "    keras.layers.Dense(30,activation=\"relu\",input_shape=[8]),\n",
        "    keras.layers.Dense(30,activation=\"relu\"),\n",
        "    keras.layers.Dense(1)\n",
        "])"
      ],
      "metadata": {
        "id": "ENUsySqSsgfM"
      },
      "execution_count": 11,
      "outputs": []
    },
    {
      "cell_type": "code",
      "source": [
        "model.summary()"
      ],
      "metadata": {
        "colab": {
          "base_uri": "https://localhost:8080/"
        },
        "id": "GMhFY1bstI7j",
        "outputId": "447241c5-f029-41e0-ac7d-b3c027420a97"
      },
      "execution_count": 12,
      "outputs": [
        {
          "output_type": "stream",
          "name": "stdout",
          "text": [
            "Model: \"sequential\"\n",
            "_________________________________________________________________\n",
            " Layer (type)                Output Shape              Param #   \n",
            "=================================================================\n",
            " dense (Dense)               (None, 30)                270       \n",
            "                                                                 \n",
            " dense_1 (Dense)             (None, 30)                930       \n",
            "                                                                 \n",
            " dense_2 (Dense)             (None, 1)                 31        \n",
            "                                                                 \n",
            "=================================================================\n",
            "Total params: 1,231\n",
            "Trainable params: 1,231\n",
            "Non-trainable params: 0\n",
            "_________________________________________________________________\n"
          ]
        }
      ]
    },
    {
      "cell_type": "code",
      "source": [
        "model.compile(loss=\"mean_squared_error\",\n",
        "              optimizer=keras.optimizers.SGD(lr=1e-3),\n",
        "              metrics=['mae']\n",
        "              )"
      ],
      "metadata": {
        "colab": {
          "base_uri": "https://localhost:8080/"
        },
        "id": "G1LW2zyatr5H",
        "outputId": "81915a90-89fb-4026-9ac7-e087076e2789"
      },
      "execution_count": 13,
      "outputs": [
        {
          "output_type": "stream",
          "name": "stderr",
          "text": [
            "WARNING:absl:`lr` is deprecated, please use `learning_rate` instead, or use the legacy optimizer, e.g.,tf.keras.optimizers.legacy.SGD.\n"
          ]
        }
      ]
    },
    {
      "cell_type": "code",
      "source": [
        "model_history=model.fit(X_train,y_train,epochs=20,validation_data=(X_valid,y_valid))"
      ],
      "metadata": {
        "colab": {
          "base_uri": "https://localhost:8080/"
        },
        "id": "4K7WKDFZufrf",
        "outputId": "4d39df38-834e-4e1e-eef0-752bd24a74c1"
      },
      "execution_count": 14,
      "outputs": [
        {
          "output_type": "stream",
          "name": "stdout",
          "text": [
            "Epoch 1/20\n",
            "363/363 [==============================] - 5s 4ms/step - loss: 0.7127 - mae: 0.5936 - val_loss: 2.7378 - val_mae: 0.5054\n",
            "Epoch 2/20\n",
            "363/363 [==============================] - 1s 3ms/step - loss: 0.4558 - mae: 0.4765 - val_loss: 7.1986 - val_mae: 0.5056\n",
            "Epoch 3/20\n",
            "363/363 [==============================] - 1s 3ms/step - loss: 0.4619 - mae: 0.4576 - val_loss: 1.3684 - val_mae: 0.4515\n",
            "Epoch 4/20\n",
            "363/363 [==============================] - 1s 3ms/step - loss: 0.3988 - mae: 0.4490 - val_loss: 3.2737 - val_mae: 0.4781\n",
            "Epoch 5/20\n",
            "363/363 [==============================] - 1s 4ms/step - loss: 0.3957 - mae: 0.4422 - val_loss: 4.8989 - val_mae: 0.4821\n",
            "Epoch 6/20\n",
            "363/363 [==============================] - 1s 4ms/step - loss: 0.4101 - mae: 0.4444 - val_loss: 0.4951 - val_mae: 0.4304\n",
            "Epoch 7/20\n",
            "363/363 [==============================] - 1s 4ms/step - loss: 0.3703 - mae: 0.4340 - val_loss: 0.3762 - val_mae: 0.4236\n",
            "Epoch 8/20\n",
            "363/363 [==============================] - 2s 5ms/step - loss: 0.3616 - mae: 0.4288 - val_loss: 0.3578 - val_mae: 0.4196\n",
            "Epoch 9/20\n",
            "363/363 [==============================] - 1s 3ms/step - loss: 0.3567 - mae: 0.4237 - val_loss: 0.3434 - val_mae: 0.4084\n",
            "Epoch 10/20\n",
            "363/363 [==============================] - 1s 3ms/step - loss: 0.3530 - mae: 0.4218 - val_loss: 0.3760 - val_mae: 0.4149\n",
            "Epoch 11/20\n",
            "363/363 [==============================] - 1s 3ms/step - loss: 0.3514 - mae: 0.4194 - val_loss: 0.3352 - val_mae: 0.4076\n",
            "Epoch 12/20\n",
            "363/363 [==============================] - 1s 4ms/step - loss: 0.3493 - mae: 0.4175 - val_loss: 0.3496 - val_mae: 0.4074\n",
            "Epoch 13/20\n",
            "363/363 [==============================] - 1s 3ms/step - loss: 0.3456 - mae: 0.4158 - val_loss: 0.3349 - val_mae: 0.4022\n",
            "Epoch 14/20\n",
            "363/363 [==============================] - 1s 3ms/step - loss: 0.3424 - mae: 0.4127 - val_loss: 0.3367 - val_mae: 0.4022\n",
            "Epoch 15/20\n",
            "363/363 [==============================] - 2s 4ms/step - loss: 0.3408 - mae: 0.4114 - val_loss: 0.3235 - val_mae: 0.4019\n",
            "Epoch 16/20\n",
            "363/363 [==============================] - 3s 8ms/step - loss: 0.3384 - mae: 0.4101 - val_loss: 0.3182 - val_mae: 0.4005\n",
            "Epoch 17/20\n",
            "363/363 [==============================] - 1s 4ms/step - loss: 0.3356 - mae: 0.4084 - val_loss: 0.3688 - val_mae: 0.4067\n",
            "Epoch 18/20\n",
            "363/363 [==============================] - 1s 4ms/step - loss: 0.3337 - mae: 0.4067 - val_loss: 0.3196 - val_mae: 0.3944\n",
            "Epoch 19/20\n",
            "363/363 [==============================] - 1s 3ms/step - loss: 0.3330 - mae: 0.4050 - val_loss: 0.3082 - val_mae: 0.3876\n",
            "Epoch 20/20\n",
            "363/363 [==============================] - 1s 3ms/step - loss: 0.3309 - mae: 0.4029 - val_loss: 0.3618 - val_mae: 0.4064\n"
          ]
        }
      ]
    },
    {
      "cell_type": "code",
      "source": [
        "mae_test=model.evaluate(X_test,y_test)"
      ],
      "metadata": {
        "colab": {
          "base_uri": "https://localhost:8080/"
        },
        "id": "3hz2HqAvyb_4",
        "outputId": "f34a656f-81d0-48c5-91c2-4a13f8178cd1"
      },
      "execution_count": 15,
      "outputs": [
        {
          "output_type": "stream",
          "name": "stdout",
          "text": [
            "162/162 [==============================] - 0s 2ms/step - loss: 0.3329 - mae: 0.4098\n"
          ]
        }
      ]
    },
    {
      "cell_type": "code",
      "source": [
        "model_history.history"
      ],
      "metadata": {
        "colab": {
          "base_uri": "https://localhost:8080/"
        },
        "id": "DNBqexCky09a",
        "outputId": "443d1913-8ec7-4c42-bef8-8a7af23b30ba"
      },
      "execution_count": 16,
      "outputs": [
        {
          "output_type": "execute_result",
          "data": {
            "text/plain": [
              "{'loss': [0.7127171754837036,\n",
              "  0.45578423142433167,\n",
              "  0.46189644932746887,\n",
              "  0.39880654215812683,\n",
              "  0.3957102298736572,\n",
              "  0.41007480025291443,\n",
              "  0.37026098370552063,\n",
              "  0.36162251234054565,\n",
              "  0.356672465801239,\n",
              "  0.35300523042678833,\n",
              "  0.35137060284614563,\n",
              "  0.34926652908325195,\n",
              "  0.3456050753593445,\n",
              "  0.3423939347267151,\n",
              "  0.34080520272254944,\n",
              "  0.3384280800819397,\n",
              "  0.3356397747993469,\n",
              "  0.3336837887763977,\n",
              "  0.3329974114894867,\n",
              "  0.3308717906475067],\n",
              " 'mae': [0.5935630798339844,\n",
              "  0.47654256224632263,\n",
              "  0.45756956934928894,\n",
              "  0.44901150465011597,\n",
              "  0.44217589497566223,\n",
              "  0.4444139897823334,\n",
              "  0.4340258836746216,\n",
              "  0.42880186438560486,\n",
              "  0.423659086227417,\n",
              "  0.42181628942489624,\n",
              "  0.41941511631011963,\n",
              "  0.4175298511981964,\n",
              "  0.4158364534378052,\n",
              "  0.4126679003238678,\n",
              "  0.4114426076412201,\n",
              "  0.4100736081600189,\n",
              "  0.408430814743042,\n",
              "  0.4066610336303711,\n",
              "  0.40497711300849915,\n",
              "  0.4028804302215576],\n",
              " 'val_loss': [2.737757682800293,\n",
              "  7.1985883712768555,\n",
              "  1.3684093952178955,\n",
              "  3.2736904621124268,\n",
              "  4.898921489715576,\n",
              "  0.495141863822937,\n",
              "  0.37615883350372314,\n",
              "  0.35783877968788147,\n",
              "  0.3434467613697052,\n",
              "  0.3760271370410919,\n",
              "  0.3351841866970062,\n",
              "  0.34961095452308655,\n",
              "  0.3348759412765503,\n",
              "  0.3366962671279907,\n",
              "  0.3235466480255127,\n",
              "  0.31815752387046814,\n",
              "  0.3688073754310608,\n",
              "  0.31957554817199707,\n",
              "  0.30820730328559875,\n",
              "  0.3618481159210205],\n",
              " 'val_mae': [0.5053883194923401,\n",
              "  0.5055971145629883,\n",
              "  0.4515242278575897,\n",
              "  0.4780725836753845,\n",
              "  0.48208147287368774,\n",
              "  0.43042439222335815,\n",
              "  0.4236309230327606,\n",
              "  0.41958919167518616,\n",
              "  0.4084412753582001,\n",
              "  0.4148769974708557,\n",
              "  0.40759921073913574,\n",
              "  0.4074314832687378,\n",
              "  0.4021915793418884,\n",
              "  0.40222930908203125,\n",
              "  0.40191566944122314,\n",
              "  0.40052714943885803,\n",
              "  0.4067353904247284,\n",
              "  0.3944176733493805,\n",
              "  0.38756147027015686,\n",
              "  0.4064217209815979]}"
            ]
          },
          "metadata": {},
          "execution_count": 16
        }
      ]
    },
    {
      "cell_type": "code",
      "source": [
        "pd.DataFrame(model_history.history).plot(figsize=(8,5))\n",
        "plt.grid(True)\n",
        "plt.gca().set_ylim(0,1)\n",
        "plt.show()"
      ],
      "metadata": {
        "colab": {
          "base_uri": "https://localhost:8080/",
          "height": 324
        },
        "id": "EDV7GSTwzBu-",
        "outputId": "700c422e-9f2c-4ab1-fe65-94fb44119874"
      },
      "execution_count": 17,
      "outputs": [
        {
          "output_type": "display_data",
          "data": {
            "text/plain": [
              "<Figure size 576x360 with 1 Axes>"
            ],
            "image/png": "[encoded data removed]"
          },
          "metadata": {
            "needs_background": "light"
          }
        }
      ]
    },
    {
      "cell_type": "code",
      "source": [
        "X_new=X_test[:3]"
      ],
      "metadata": {
        "id": "_ANDBWOiziVd"
      },
      "execution_count": 18,
      "outputs": []
    },
    {
      "cell_type": "code",
      "source": [
        "y_pred=model.predict(X_new)\n",
        "print(y_pred)\n",
        "print(y_test[:3])"
      ],
      "metadata": {
        "colab": {
          "base_uri": "https://localhost:8080/"
        },
        "id": "qAgvvuqvzyWq",
        "outputId": "afd0e3ba-7d8a-4ab4-c2e8-b43abab106ef"
      },
      "execution_count": 19,
      "outputs": [
        {
          "output_type": "stream",
          "name": "stdout",
          "text": [
            "1/1 [==============================] - 0s 73ms/step\n",
            "[[0.7101414]\n",
            " [1.726496 ]\n",
            " [4.496614 ]]\n",
            "[0.477   0.458   5.00001]\n"
          ]
        }
      ]
    },
    {
      "cell_type": "code",
      "source": [],
      "metadata": {
        "id": "rhNUoTD10Bu-"
      },
      "execution_count": 19,
      "outputs": []
    }
  ]
}